{
 "cells": [
  {
   "cell_type": "code",
   "execution_count": null,
   "id": "d27517d5-e8d7-4cff-bd32-67382d7b26e6",
   "metadata": {},
   "outputs": [],
   "source": [
    "# Team blue: Cici Qiao"
   ]
  },
  {
   "cell_type": "code",
   "execution_count": 19,
   "id": "23590c39-b45a-434a-a3f4-1ce9e42cdc6e",
   "metadata": {
    "tags": []
   },
   "outputs": [],
   "source": [
    "def get_max(lst):\n",
    "    max_num = lst[0]\n",
    "    for i in lst:\n",
    "        if i > max_num:\n",
    "            max_num = i\n",
    "    print(max_num)"
   ]
  },
  {
   "cell_type": "code",
   "execution_count": 20,
   "id": "26aff1e3-0338-4be2-be1e-7c6a89514fa3",
   "metadata": {
    "tags": []
   },
   "outputs": [
    {
     "ename": "NameError",
     "evalue": "name 'inp' is not defined",
     "output_type": "error",
     "traceback": [
      "\u001b[0;31m---------------------------------------------------------------------------\u001b[0m",
      "\u001b[0;31mNameError\u001b[0m                                 Traceback (most recent call last)",
      "Cell \u001b[0;32mIn[20], line 1\u001b[0m\n\u001b[0;32m----> 1\u001b[0m \u001b[43mget_max\u001b[49m\u001b[43m(\u001b[49m\u001b[43ma\u001b[49m\u001b[43m)\u001b[49m\n",
      "Cell \u001b[0;32mIn[19], line 3\u001b[0m, in \u001b[0;36mget_max\u001b[0;34m(lst)\u001b[0m\n\u001b[1;32m      1\u001b[0m \u001b[38;5;28;01mdef\u001b[39;00m \u001b[38;5;21mget_max\u001b[39m(lst):\n\u001b[1;32m      2\u001b[0m     max_num \u001b[38;5;241m=\u001b[39m lst[\u001b[38;5;241m0\u001b[39m]\n\u001b[0;32m----> 3\u001b[0m     \u001b[38;5;28;01mfor\u001b[39;00m i \u001b[38;5;129;01min\u001b[39;00m \u001b[43minp\u001b[49m:\n\u001b[1;32m      4\u001b[0m         \u001b[38;5;28;01mif\u001b[39;00m i \u001b[38;5;241m>\u001b[39m max_num:\n\u001b[1;32m      5\u001b[0m             max_num \u001b[38;5;241m=\u001b[39m i\n",
      "\u001b[0;31mNameError\u001b[0m: name 'inp' is not defined"
     ]
    }
   ],
   "source": [
    "get_max(a)"
   ]
  },
  {
   "cell_type": "code",
   "execution_count": null,
   "id": "661866cb-6cb2-4b35-896b-9dc4fe5d614d",
   "metadata": {},
   "outputs": [],
   "source": []
  }
 ],
 "metadata": {
  "kernelspec": {
   "display_name": "Python 3 (ipykernel)",
   "language": "python",
   "name": "python3"
  },
  "language_info": {
   "codemirror_mode": {
    "name": "ipython",
    "version": 3
   },
   "file_extension": ".py",
   "mimetype": "text/x-python",
   "name": "python",
   "nbconvert_exporter": "python",
   "pygments_lexer": "ipython3",
   "version": "3.10.9"
  }
 },
 "nbformat": 4,
 "nbformat_minor": 5
}
