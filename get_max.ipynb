{
 "cells": [
  {
   "cell_type": "code",
   "execution_count": null,
   "id": "d27517d5-e8d7-4cff-bd32-67382d7b26e6",
   "metadata": {},
   "outputs": [],
   "source": [
    "# Team blue: Cici Qiao, "
   ]
  },
  {
   "cell_type": "code",
   "execution_count": 23,
   "id": "23590c39-b45a-434a-a3f4-1ce9e42cdc6e",
   "metadata": {
    "tags": []
   },
   "outputs": [],
   "source": [
    "def get_max(lst):\n",
    "    max_num = lst[0]\n",
    "    for i in lst:\n",
    "        if i > max_num:\n",
    "            max_num = i\n",
    "    print(max_num)"
   ]
  },
  {
   "cell_type": "code",
   "execution_count": 24,
   "id": "26aff1e3-0338-4be2-be1e-7c6a89514fa3",
   "metadata": {
    "tags": []
   },
   "outputs": [
    {
     "name": "stdout",
     "output_type": "stream",
     "text": [
      "100\n"
     ]
    }
   ],
   "source": [
    "get_max(a)"
   ]
  }
 ],
 "metadata": {
  "kernelspec": {
   "display_name": "Python 3 (ipykernel)",
   "language": "python",
   "name": "python3"
  },
  "language_info": {
   "codemirror_mode": {
    "name": "ipython",
    "version": 3
   },
   "file_extension": ".py",
   "mimetype": "text/x-python",
   "name": "python",
   "nbconvert_exporter": "python",
   "pygments_lexer": "ipython3",
   "version": "3.10.9"
  }
 },
 "nbformat": 4,
 "nbformat_minor": 5
}
